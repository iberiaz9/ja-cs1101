{
 "cells": [
  {
   "cell_type": "markdown",
   "metadata": {},
   "source": [
    "# Pick the winner!"
   ]
  },
  {
   "cell_type": "markdown",
   "metadata": {},
   "source": [
    "## Try in Binder"
   ]
  },
  {
   "cell_type": "code",
   "execution_count": null,
   "metadata": {},
   "outputs": [],
   "source": [
    "'''Hello class, since there is no PA6, you can practice coding using a list with the program below. The idea is to pick names at random until the list is empty. '''\n",
    "\n",
    "import random\n",
    "\n",
    "students = ['Tomas','Muhammed','Sher','Sal','Jose','Ryan','Lawrence','Mel','Senay','Christie','Vincent','Caitlyn','Adeline','Ray','Mike']\n",
    "\n",
    "def pick(my_students):\n",
    "    # your code here and replace the line below with your own\n",
    "    return 'the prof'\n",
    "\n",
    "more = 'y'\n",
    "\n",
    "while students and len(more) and not more[0] in 'nN':\n",
    "    winner = pick(students)\n",
    "    more = input(\"And the winner is: \" + winner + \"! More? [y]/n: \")\n",
    "    if not len(more):\n",
    "        more = 'y'\n",
    "\n",
    "print('Thanks for playing!')"
   ]
  }
 ],
 "metadata": {
  "kernelspec": {
   "display_name": "Python 3",
   "language": "python",
   "name": "python3"
  },
  "language_info": {
   "codemirror_mode": {
    "name": "ipython",
    "version": 3
   },
   "file_extension": ".py",
   "mimetype": "text/x-python",
   "name": "python",
   "nbconvert_exporter": "python",
   "pygments_lexer": "ipython3",
   "version": "3.7.7"
  }
 },
 "nbformat": 4,
 "nbformat_minor": 4
}
