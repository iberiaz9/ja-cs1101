{
 "cells": [
  {
   "cell_type": "code",
   "execution_count": null,
   "metadata": {
    "colab": {
     "base_uri": "https://localhost:8080/"
    },
    "executionInfo": {
     "elapsed": 2019,
     "status": "ok",
     "timestamp": 1616107223769,
     "user": {
      "displayName": "Jose Alvarado",
      "photoUrl": "",
      "userId": "12792551349571260236"
     },
     "user_tz": 420
    },
    "id": "86y1a1uJFtq5",
    "outputId": "028037fd-1439-4e66-daa6-749921ff8c97"
   },
   "outputs": [],
   "source": [
    "%%timeit -n3 -r3 -c\n",
    "with open(\"words.txt\", \"r\") as fin:\n",
    "    ls = fin.read().split()\n",
    "wdic = dict()\n",
    "for l in ls:\n",
    "    wdic.setdefault(\"\".join(sorted(l)), []).append(l)\n",
    "anags = [str(i)[1:-1].replace(\"'\",\"\")+'\\n' for i in wdic.values() if len(i) > 1]\n",
    "with open(\"EnAnags.txt\", 'w') as fou:\n",
    "    fou.writelines(anags)"
   ]
  },
  {
   "cell_type": "code",
   "execution_count": null,
   "metadata": {
    "colab": {
     "base_uri": "https://localhost:8080/"
    },
    "executionInfo": {
     "elapsed": 2229,
     "status": "ok",
     "timestamp": 1616107235171,
     "user": {
      "displayName": "Jose Alvarado",
      "photoUrl": "",
      "userId": "12792551349571260236"
     },
     "user_tz": 420
    },
    "id": "RjXMP8JqehCU",
    "outputId": "d8a4723d-4bd1-41f6-8cd7-8670fae3d38c"
   },
   "outputs": [],
   "source": [
    "%%timeit \n",
    "fin = open(\"words.txt\", \"r\")\n",
    "content = fin.readlines()\n",
    "fin.close()\n",
    "\n",
    "words = []\n",
    "for word in content:\n",
    "    words.append(word.strip('\\n'))\n",
    "\n",
    "wdic = dict()\n",
    "for word in words:\n",
    "    sorted_word = \"\".join(sorted(word))\n",
    "    if sorted_word in wdic:\n",
    "        wdic[sorted_word].append(word)\n",
    "    else:\n",
    "        wdic[sorted_word] = [word]\n",
    "\n",
    "with open(\"EnAnags.txt\", 'w') as f:\n",
    "    for anagram in wdic.values():\n",
    "        if len(anagram) > 1:\n",
    "            line = \"\"\n",
    "            for item in anagram:\n",
    "                line += item + \" \"\n",
    "            f.write(line[:-1] + \"\\n\"\n",
    "    f.close()"
   ]
  },
  {
   "cell_type": "code",
   "execution_count": 38,
   "metadata": {},
   "outputs": [],
   "source": [
    "def outer_function(namen):\n",
    "    def inner_function():\n",
    "        nonlocal namen\n",
    "        name = 'Mohammed'+ str(namen)\n",
    "        namen += 1\n",
    "        return name\n",
    " \n",
    "    return inner_function\n",
    "\n",
    "my_f = outer_function(1)"
   ]
  },
  {
   "cell_type": "code",
   "execution_count": 42,
   "metadata": {},
   "outputs": [
    {
     "name": "stdout",
     "output_type": "stream",
     "text": [
      "Mohammed10 Mohammed11 Mohammed12\n"
     ]
    }
   ],
   "source": [
    "print(my_f(), my_f(), my_f())"
   ]
  },
  {
   "cell_type": "code",
   "execution_count": 43,
   "metadata": {},
   "outputs": [
    {
     "name": "stdout",
     "output_type": "stream",
     "text": [
      "13\n"
     ]
    }
   ],
   "source": [
    "print(my_f.__closure__[0].cell_contents)"
   ]
  },
  {
   "cell_type": "code",
   "execution_count": 48,
   "metadata": {},
   "outputs": [
    {
     "name": "stdout",
     "output_type": "stream",
     "text": [
      "Inside the function, x = 5\n",
      "Outside the function, x = 10\n"
     ]
    }
   ],
   "source": [
    "x = 10\n",
    "def my_function():\n",
    "    # Local variable with the same name as the global variable\n",
    "    x = 5\n",
    "    print(\"Inside the function, x =\", x)\n",
    "\n",
    "# Call the function\n",
    "my_function()\n",
    "# Print the global variable outside the function\n",
    "print(\"Outside the function, x =\", x)"
   ]
  }
 ],
 "metadata": {
  "colab": {
   "authorship_tag": "ABX9TyP+44QTfrYc/TFUwl3jrlgQ",
   "mount_file_id": "17cffxhSuWy3ISaqDwIB8V7wNweW925II",
   "name": "Untitled0.ipynb",
   "provenance": []
  },
  "kernelspec": {
   "display_name": "Python 3",
   "language": "python",
   "name": "python3"
  },
  "language_info": {
   "codemirror_mode": {
    "name": "ipython",
    "version": 3
   },
   "file_extension": ".py",
   "mimetype": "text/x-python",
   "name": "python",
   "nbconvert_exporter": "python",
   "pygments_lexer": "ipython3",
   "version": "3.11.4"
  }
 },
 "nbformat": 4,
 "nbformat_minor": 1
}
