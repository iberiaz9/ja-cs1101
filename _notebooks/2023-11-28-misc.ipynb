{
 "cells": [
  {
   "cell_type": "code",
   "execution_count": 38,
   "metadata": {},
   "outputs": [],
   "source": [
    "def outer_function(namen):\n",
    "    def inner_function():\n",
    "        nonlocal namen\n",
    "        name = 'Mohammed'+ str(namen)\n",
    "        namen += 1\n",
    "        return name\n",
    " \n",
    "    return inner_function\n",
    "\n",
    "my_f = outer_function(1)"
   ]
  },
  {
   "cell_type": "code",
   "execution_count": 42,
   "metadata": {},
   "outputs": [
    {
     "name": "stdout",
     "output_type": "stream",
     "text": [
      "Mohammed10 Mohammed11 Mohammed12\n"
     ]
    }
   ],
   "source": [
    "print(my_f(), my_f(), my_f())"
   ]
  },
  {
   "cell_type": "code",
   "execution_count": 43,
   "metadata": {},
   "outputs": [
    {
     "name": "stdout",
     "output_type": "stream",
     "text": [
      "13\n"
     ]
    }
   ],
   "source": [
    "print(my_f.__closure__[0].cell_contents)"
   ]
  }
 ],
 "metadata": {
  "colab": {
   "authorship_tag": "ABX9TyP+44QTfrYc/TFUwl3jrlgQ",
   "mount_file_id": "17cffxhSuWy3ISaqDwIB8V7wNweW925II",
   "name": "Untitled0.ipynb",
   "provenance": []
  },
  "kernelspec": {
   "display_name": "Python 3",
   "language": "python",
   "name": "python3"
  },
  "language_info": {
   "codemirror_mode": {
    "name": "ipython",
    "version": 3
   },
   "file_extension": ".py",
   "mimetype": "text/x-python",
   "name": "python",
   "nbconvert_exporter": "python",
   "pygments_lexer": "ipython3",
   "version": "3.11.4"
  }
 },
 "nbformat": 4,
 "nbformat_minor": 4
}
